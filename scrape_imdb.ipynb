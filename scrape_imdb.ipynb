{
 "cells": [
  {
   "cell_type": "code",
   "execution_count": null,
   "id": "1c6f1fbf",
   "metadata": {},
   "outputs": [],
   "source": [
    "import os\n",
    "import dateutil.parser\n",
    "\n",
    "import requests\n",
    "\n",
    "from bs4 import BeautifulSoup\n",
    "\n",
    "import pandas as pd\n"
   ]
  },
  {
   "cell_type": "code",
   "execution_count": null,
   "id": "2ebcf227",
   "metadata": {},
   "outputs": [],
   "source": [
    "def monetary_to_int(monetary):\n",
    "    monetary = monetary.replace('$', '').replace(',', '')\n",
    "    return int(monetary)\n",
    "\n",
    "def runtime_to_minutes(runtime):\n",
    "    runtime = runtime.split()\n",
    "    try:\n",
    "        minutes = int(runtime[0])*60 + int(runtime[2])\n",
    "        return minutes\n",
    "    except:\n",
    "        return None\n",
    "\n",
    "def to_date(date):\n",
    "    date = dateutil.parser.parse(date)\n",
    "    return date\n"
   ]
  },
  {
   "cell_type": "code",
   "execution_count": null,
   "id": "c9abb2db",
   "metadata": {},
   "outputs": [],
   "source": [
    "def get_top_grossers(offset):\n",
    "    \n",
    "    url = f'https://www.boxofficemojo.com/chart/ww_top_lifetime_gross/?offset={offset}'\n",
    "\n",
    "    resp = requests.get(url)\n",
    "    \n",
    "    assert resp.status_code == 200, f'No response from url: {url}.'\n",
    "    \n",
    "    soup = BeautifulSoup(resp.text, 'html.parser')\n",
    "    \n",
    "    table = soup.find('table')\n",
    "    \n",
    "    rows = [row for row in table.find_all('tr')]\n",
    "    \n",
    "    movies = {}\n",
    "\n",
    "    for row in rows[1:]:\n",
    "        items = row.find_all('td')\n",
    "        rank = items[0].text\n",
    "        link = items[1].find('a')\n",
    "        title, url = link.text, link['href']\n",
    "        worldwide_gross = monetary_to_int(items[2].text)\n",
    "        domestic_gross = monetary_to_int(items[3].text)\n",
    "        foreign_gross = monetary_to_int(items[5].text)\n",
    "        year = to_date(items[7].text)\n",
    "        print(year, type(year))\n",
    "\n",
    "        '''\n",
    "                               \n",
    "        movies[rank] = [i.text for i in items[1:]] + [url]\n",
    "\n",
    "    headers = ['title', 'worldwide_gross', 'domestic_gross', 'domestic_pct', 'international_gross', 'international_pct', 'year', 'link_imdb']\n",
    "    \n",
    "    movies_df = pd.DataFrame(movies).T\n",
    "    movies_df.columns = headers\n",
    "    \n",
    "    return movies_df\n",
    "    '''\n",
    "    "
   ]
  },
  {
   "cell_type": "code",
   "execution_count": null,
   "id": "1cc9c1cc",
   "metadata": {},
   "outputs": [],
   "source": [
    "df = get_top_grossers(0)"
   ]
  },
  {
   "cell_type": "code",
   "execution_count": null,
   "id": "86e31d17",
   "metadata": {},
   "outputs": [],
   "source": [
    "df.head()"
   ]
  },
  {
   "cell_type": "code",
   "execution_count": null,
   "id": "e476fcda",
   "metadata": {},
   "outputs": [],
   "source": [
    "filename = 'top_gross_films.csv'\n",
    "offsets = [0,200,400]\n",
    "for num in offsets:\n",
    "    df = get_top_grossers(num)\n",
    "    \n",
    "    if not os.path.exists(filename):\n",
    "        df.to_csv(filename)\n",
    "    \n",
    "    elif os.path.exists(filename):\n",
    "        df.to_csv(filename, mode='a', header=False)"
   ]
  },
  {
   "cell_type": "code",
   "execution_count": null,
   "id": "91c1e564",
   "metadata": {},
   "outputs": [],
   "source": []
  }
 ],
 "metadata": {
  "kernelspec": {
   "display_name": "Python [conda env:metis] *",
   "language": "python",
   "name": "conda-env-metis-py"
  },
  "language_info": {
   "codemirror_mode": {
    "name": "ipython",
    "version": 3
   },
   "file_extension": ".py",
   "mimetype": "text/x-python",
   "name": "python",
   "nbconvert_exporter": "python",
   "pygments_lexer": "ipython3",
   "version": "3.8.10"
  }
 },
 "nbformat": 4,
 "nbformat_minor": 5
}
